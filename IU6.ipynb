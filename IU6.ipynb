{
 "cells": [
  {
   "cell_type": "code",
   "execution_count": 1,
   "id": "fd5a73ae-0574-496a-b6a9-9acc8b3f81d2",
   "metadata": {},
   "outputs": [],
   "source": [
    "import cv2\n",
    "import numpy as np"
   ]
  },
  {
   "cell_type": "code",
   "execution_count": 17,
   "id": "afded038-233e-4fac-9980-31fe61aac688",
   "metadata": {},
   "outputs": [],
   "source": [
    "img = cv2.imread('cat.jpg')"
   ]
  },
  {
   "cell_type": "code",
   "execution_count": 18,
   "id": "f996a590-5168-426a-964a-8dd72ea30766",
   "metadata": {},
   "outputs": [],
   "source": [
    "img_gray = cv2.cvtColor(img, cv2.COLOR_BGR2GRAY)"
   ]
  },
  {
   "cell_type": "code",
   "execution_count": 3,
   "id": "5519a42e-8cf2-4ad9-a40d-ad018b3951cd",
   "metadata": {},
   "outputs": [],
   "source": [
    "def show_img(imgs):\n",
    "    for k, img in imgs.items():\n",
    "        cv2.imshow(k, img)\n",
    "    \n",
    "    cv2.waitKey(0)\n",
    "    cv2.destroyAllWindows()\n",
    "    cv2.waitKey(1)"
   ]
  },
  {
   "cell_type": "code",
   "execution_count": 4,
   "id": "4dc47560-e990-4718-85c7-c862135a88c8",
   "metadata": {},
   "outputs": [],
   "source": [
    "show_img({'cat':img})"
   ]
  },
  {
   "cell_type": "code",
   "execution_count": 19,
   "id": "d2786b1a-1076-4fdc-821d-355a66f4bb15",
   "metadata": {},
   "outputs": [],
   "source": [
    "_,simple_thresholding = cv2.threshold(img_gray,127,255,cv2.THRESH_BINARY)"
   ]
  },
  {
   "cell_type": "code",
   "execution_count": 26,
   "id": "7c322ff8-4ae2-4a86-8a20-b0e7731d1be2",
   "metadata": {},
   "outputs": [],
   "source": [
    "adaptive_thresholding = cv2.adaptiveThreshold(img_gray,255,cv2.ADAPTIVE_THRESH_MEAN_C,\\\n",
    " cv2.THRESH_BINARY,11,2)"
   ]
  },
  {
   "cell_type": "code",
   "execution_count": 25,
   "id": "404dd127-cf17-44b0-84eb-9863faf1fadf",
   "metadata": {},
   "outputs": [],
   "source": [
    "adaptive_gaussian_thresholding = cv2.adaptiveThreshold(img_gray,255,cv2.ADAPTIVE_THRESH_GAUSSIAN_C,\\\n",
    " cv2.THRESH_BINARY,11,2)"
   ]
  },
  {
   "cell_type": "code",
   "execution_count": 32,
   "id": "2531adc4-1cf8-43ca-9b70-af503df6a98a",
   "metadata": {},
   "outputs": [],
   "source": [
    "_, otsu_thresholding = cv2.threshold(img_gray,0,255,cv2.THRESH_BINARY+cv2.THRESH_OTSU)"
   ]
  },
  {
   "cell_type": "code",
   "execution_count": 44,
   "id": "65146434-d9c4-4112-a3df-f46b0535250c",
   "metadata": {},
   "outputs": [],
   "source": [
    "# Otsu's thresholding after Gaussian filtering\n",
    "img_gray_blur = cv2.GaussianBlur(img_gray,(7,7),0)\n",
    "_,otsu_aft_blur = cv2.threshold(img_gray_blur,0,255,cv2.THRESH_BINARY+cv2.THRESH_OTSU)"
   ]
  },
  {
   "cell_type": "code",
   "execution_count": 75,
   "id": "98ea5cec-1ae7-48cf-8b63-af2cd144d24a",
   "metadata": {},
   "outputs": [],
   "source": [
    "thresholdings = {\n",
    "    'Simple Thresolding':simple_thresholding,\n",
    "    'Adaptive Thresholding': adaptive_thresholding,\n",
    "    'Adaptive Gaussian Thresholding': adaptive_gaussian_thresholding,\n",
    "    'Otsu\\'s Thresholding':otsu_thresholding,\n",
    "    'Otsu\\'s After Gaussian Filtering':otsu_aft_blur}"
   ]
  },
  {
   "cell_type": "code",
   "execution_count": 92,
   "id": "d7430fe9-633d-4867-bfa8-db62870aee52",
   "metadata": {},
   "outputs": [],
   "source": [
    "show_img(thresholdings)"
   ]
  },
  {
   "cell_type": "markdown",
   "id": "d4a65aab-4db0-4839-a0c7-acfee3586dd3",
   "metadata": {},
   "source": [
    "# OpenCV Morphological Operations"
   ]
  },
  {
   "cell_type": "code",
   "execution_count": 86,
   "id": "6ad8d2d9-7017-4412-892b-ffc4a76c4299",
   "metadata": {},
   "outputs": [],
   "source": [
    "kernel = np.ones((5,5), np.uint8)"
   ]
  },
  {
   "cell_type": "markdown",
   "id": "881efa6f-c8a7-4096-bc7d-7c222955c10e",
   "metadata": {},
   "source": [
    "## Erosion"
   ]
  },
  {
   "cell_type": "code",
   "execution_count": 87,
   "id": "128938d6-0057-4b6b-afcf-ed030bf3c174",
   "metadata": {},
   "outputs": [],
   "source": [
    "eroded = cv2.erode(otsu_thresholding.copy(), kernel, iterations=1)"
   ]
  },
  {
   "cell_type": "markdown",
   "id": "9cfc896e-7ad2-441e-b49e-adfae320f7de",
   "metadata": {},
   "source": [
    "## Dilation"
   ]
  },
  {
   "cell_type": "code",
   "execution_count": 88,
   "id": "8e38e764-5b26-492d-a878-13b8bbc1ae2c",
   "metadata": {},
   "outputs": [],
   "source": [
    "dilated = cv2.dilate(otsu_thresholding.copy(), kernel, iterations=3)"
   ]
  },
  {
   "cell_type": "markdown",
   "id": "bbb88f68-86c4-4e6b-a90a-23d2e42e27a0",
   "metadata": {},
   "source": [
    "## Opening"
   ]
  },
  {
   "cell_type": "code",
   "execution_count": 89,
   "id": "12f1af54-bd7a-4ca5-ada2-1d690da2eaca",
   "metadata": {},
   "outputs": [],
   "source": [
    "# kernel = cv2.getStructuringElement(cv2.MORPH_RECT, (7,7))\n",
    "opening = cv2.morphologyEx(otsu_thresholding, cv2.MORPH_OPEN, kernel)"
   ]
  },
  {
   "cell_type": "markdown",
   "id": "42ead19d-7ac6-41c0-8633-ba73c08fd3c0",
   "metadata": {},
   "source": [
    "## Closing"
   ]
  },
  {
   "cell_type": "code",
   "execution_count": 90,
   "id": "32091527-564f-4840-8f42-b60297f92bee",
   "metadata": {},
   "outputs": [],
   "source": [
    "# kernel = cv2.getStructuringElement(cv2.MORPH_RECT, (7,7))\n",
    "closing = cv2.morphologyEx(otsu_thresholding, cv2.MORPH_CLOSE, kernel)"
   ]
  },
  {
   "cell_type": "code",
   "execution_count": null,
   "id": "6cbc8efb-f9d1-4ba9-b825-017468d37a85",
   "metadata": {},
   "outputs": [],
   "source": [
    "show_img({\n",
    "    'Original':img,'eroded':eroded,\n",
    "         'dilated':dilated,\n",
    "         'opening':opening,\n",
    "         'closing':closing})"
   ]
  },
  {
   "cell_type": "code",
   "execution_count": null,
   "id": "9b2aa96e-56cc-48c5-9112-a1bdc11fe57b",
   "metadata": {},
   "outputs": [],
   "source": []
  }
 ],
 "metadata": {
  "kernelspec": {
   "display_name": "Python 3 (ipykernel)",
   "language": "python",
   "name": "python3"
  },
  "language_info": {
   "codemirror_mode": {
    "name": "ipython",
    "version": 3
   },
   "file_extension": ".py",
   "mimetype": "text/x-python",
   "name": "python",
   "nbconvert_exporter": "python",
   "pygments_lexer": "ipython3",
   "version": "3.10.9"
  }
 },
 "nbformat": 4,
 "nbformat_minor": 5
}
