{
 "cells": [
  {
   "cell_type": "code",
   "execution_count": 5,
   "id": "0956b2fa-3426-4054-9f8a-c7ed4e7e4c58",
   "metadata": {},
   "outputs": [],
   "source": [
    "import cv2\n",
    "import numpy as np"
   ]
  },
  {
   "cell_type": "code",
   "execution_count": 2,
   "id": "f70f184a-5fe0-4040-a77f-7bfc0810765a",
   "metadata": {},
   "outputs": [],
   "source": [
    "img = cv2.imread('cat.jpg')"
   ]
  },
  {
   "cell_type": "code",
   "execution_count": 34,
   "id": "bd6960d0-b38c-4992-b8fa-0799340cc372",
   "metadata": {},
   "outputs": [],
   "source": [
    "img_gray = cv2.cvtColor(img, cv2.COLOR_BGR2GRAY)"
   ]
  },
  {
   "cell_type": "code",
   "execution_count": 24,
   "id": "50184f0f-dc02-43c8-afd3-dc6fd11af648",
   "metadata": {},
   "outputs": [],
   "source": [
    "def show_img(imgs):\n",
    "    for k, img in imgs.items():\n",
    "        cv2.imshow(k, img)\n",
    "    \n",
    "    cv2.waitKey(0)\n",
    "    cv2.destroyAllWindows()\n",
    "    cv2.waitKey(1)"
   ]
  },
  {
   "cell_type": "code",
   "execution_count": null,
   "id": "696892ff-acf2-4f0d-b331-0b4129d1d184",
   "metadata": {},
   "outputs": [],
   "source": []
  },
  {
   "cell_type": "code",
   "execution_count": 27,
   "id": "4e06a8dc-cc47-44d0-b336-80a84f0224a3",
   "metadata": {},
   "outputs": [],
   "source": [
    "blurred = cv2.blur(img, (5,5))"
   ]
  },
  {
   "cell_type": "code",
   "execution_count": 12,
   "id": "3ae4ca76-8782-451a-9996-bc62d7a0c8ad",
   "metadata": {},
   "outputs": [],
   "source": [
    "show_img([blurred])"
   ]
  },
  {
   "cell_type": "code",
   "execution_count": 25,
   "id": "0279ed8f-c7da-4605-ba54-70360f38ab13",
   "metadata": {},
   "outputs": [],
   "source": [
    "gaussian = cv2.GaussianBlur(img, (5,5), 0)\n",
    "median = cv2.medianBlur(img, 5)"
   ]
  },
  {
   "cell_type": "code",
   "execution_count": 35,
   "id": "17c53a80-58b9-4166-95e1-b1d9b752504a",
   "metadata": {},
   "outputs": [],
   "source": [
    "hist_qeualised = cv2.equalizeHist(img_gray)"
   ]
  },
  {
   "cell_type": "code",
   "execution_count": 59,
   "id": "1f25fe9d-e3a8-42db-96c2-3ea30482a967",
   "metadata": {},
   "outputs": [],
   "source": [
    "show_img(\n",
    "    {'gaussian':gaussian, \n",
    "     'medain': median, \n",
    "     'blurred':blurred,\n",
    "     'gray': img_gray,\n",
    "     'Histogram Equalisation': hist_qeualised,\n",
    "     'gamma corrected': gamma_corrected,\n",
    "     'normal': img\n",
    "    })"
   ]
  },
  {
   "cell_type": "code",
   "execution_count": 56,
   "id": "6fef2756-f260-4def-93dc-ea9a2c419908",
   "metadata": {},
   "outputs": [],
   "source": [
    "gamma = 1.5\n",
    "gamma_corrected = np.power(img / 255, gamma)\n",
    "# gamma_corrected = np.uint8(gamma_corrected * 255)\n",
    "\n",
    "show_img({})"
   ]
  },
  {
   "cell_type": "code",
   "execution_count": 43,
   "id": "e9b4b530-4673-4c75-ae7d-6e0734b9865d",
   "metadata": {},
   "outputs": [
    {
     "data": {
      "text/plain": [
       "array([[[0.05981177, 0.14075485, 0.04868645],\n",
       "        [0.05752613, 0.14075485, 0.04445439],\n",
       "        [0.05527036, 0.13770607, 0.04238696],\n",
       "        ...,\n",
       "        [0.05981177, 0.2096783 , 0.0621269 ],\n",
       "        [0.06447116, 0.21318263, 0.06924564],\n",
       "        [0.06924564, 0.2202491 , 0.07413248]],\n",
       "\n",
       "       [[0.0508501 , 0.1316757 , 0.03445366],\n",
       "        [0.0508501 , 0.1316757 , 0.03445366],\n",
       "        [0.0508501 , 0.1316757 , 0.03445366],\n",
       "        ...,\n",
       "        [0.06447116, 0.21670627, 0.06684419],\n",
       "        [0.06447116, 0.21670627, 0.06684419],\n",
       "        [0.06684419, 0.2202491 , 0.06924564]],\n",
       "\n",
       "       [[0.05304488, 0.13467964, 0.03638537],\n",
       "        [0.05527036, 0.13770607, 0.03835189],\n",
       "        [0.05527036, 0.13770607, 0.03835189],\n",
       "        ...,\n",
       "        [0.06684419, 0.2202491 , 0.06924564],\n",
       "        [0.06684419, 0.2202491 , 0.06924564],\n",
       "        [0.06684419, 0.22381104, 0.06447116]],\n",
       "\n",
       "       ...,\n",
       "\n",
       "       [[0.01286417, 0.0947553 , 0.33092492],\n",
       "        [0.00663061, 0.08166794, 0.30681509],\n",
       "        [0.01020849, 0.08682499, 0.30285621],\n",
       "        ...,\n",
       "        [0.08682499, 0.39811483, 0.15003358],\n",
       "        [0.07912915, 0.39811483, 0.14075485],\n",
       "        [0.07912915, 0.40245   , 0.13770607]],\n",
       "\n",
       "       [[0.05527036, 0.15950769, 0.40245   ],\n",
       "        [0.05527036, 0.15950769, 0.40245   ],\n",
       "        [0.07413248, 0.18235199, 0.415549  ],\n",
       "        ...,\n",
       "        [0.08166794, 0.3894916 , 0.1438258 ],\n",
       "        [0.08166794, 0.3894916 , 0.1438258 ],\n",
       "        [0.08166794, 0.39379535, 0.13770607]],\n",
       "\n",
       "       [[0.11988843, 0.24557815, 0.48772538],\n",
       "        [0.1316757 , 0.25671164, 0.49236301],\n",
       "        [0.15317011, 0.28332099, 0.52523283],\n",
       "        ...,\n",
       "        [0.08166794, 0.38093154, 0.1438258 ],\n",
       "        [0.08166794, 0.38520364, 0.14075485],\n",
       "        [0.08166794, 0.38520364, 0.14075485]]])"
      ]
     },
     "execution_count": 43,
     "metadata": {},
     "output_type": "execute_result"
    }
   ],
   "source": [
    "gamma_corrected"
   ]
  }
 ],
 "metadata": {
  "kernelspec": {
   "display_name": "Python 3 (ipykernel)",
   "language": "python",
   "name": "python3"
  },
  "language_info": {
   "codemirror_mode": {
    "name": "ipython",
    "version": 3
   },
   "file_extension": ".py",
   "mimetype": "text/x-python",
   "name": "python",
   "nbconvert_exporter": "python",
   "pygments_lexer": "ipython3",
   "version": "3.10.9"
  }
 },
 "nbformat": 4,
 "nbformat_minor": 5
}
