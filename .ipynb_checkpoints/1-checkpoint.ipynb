{
 "cells": [
  {
   "cell_type": "code",
   "execution_count": 3,
   "id": "e5a741ee-da86-492b-b084-03855669cafe",
   "metadata": {},
   "outputs": [
    {
     "name": "stdout",
     "output_type": "stream",
     "text": [
      "h\n"
     ]
    }
   ],
   "source": [
    "print('h')"
   ]
  },
  {
   "cell_type": "markdown",
   "id": "da974841-0567-4d90-a0f8-5bfadb0c3cac",
   "metadata": {},
   "source": [
    "- Basic Python\n",
    "  - Variable & Values\n",
    "  - Data types\n",
    "  - Operations\n",
    "  - Conditional Programming\n",
    "  - Loop\n",
    "  - Functions"
   ]
  },
  {
   "cell_type": "code",
   "execution_count": 7,
   "id": "538614c4-977d-46ca-b78c-f97d47142c9c",
   "metadata": {},
   "outputs": [
    {
     "name": "stdout",
     "output_type": "stream",
     "text": [
      "24\n",
      "6.0\n",
      "Hello ZQ\n"
     ]
    }
   ],
   "source": [
    "a = 12\n",
    "name = 'ZQ'\n",
    "\n",
    "print(a * 2)\n",
    "print(a / 2)\n",
    "\n",
    "print('Hello', name)"
   ]
  },
  {
   "cell_type": "code",
   "execution_count": 8,
   "id": "c272ac55-f06b-44b5-abc0-542619528313",
   "metadata": {},
   "outputs": [
    {
     "name": "stdout",
     "output_type": "stream",
     "text": [
      "6\n",
      "<class 'int'>\n",
      "7\n",
      "<class 'str'>\n",
      "4.2\n",
      "<class 'float'>\n"
     ]
    }
   ],
   "source": [
    "x1 = 6\n",
    "x2 = '7'\n",
    "x3 = 4.2\n",
    "\n",
    "print(x1)\n",
    "print(type(x1))\n",
    "print(x2)\n",
    "print(type(x2))\n",
    "print(x3)\n",
    "print(type(x3))"
   ]
  },
  {
   "cell_type": "code",
   "execution_count": 10,
   "id": "8987fbf2-a86f-4e88-895b-3581d5d7ef7d",
   "metadata": {},
   "outputs": [
    {
     "name": "stdout",
     "output_type": "stream",
     "text": [
      "10.2\n"
     ]
    }
   ],
   "source": [
    "print(x1 + x3)"
   ]
  },
  {
   "cell_type": "code",
   "execution_count": 11,
   "id": "1f377417-f198-4df0-bdd9-8820341e97e6",
   "metadata": {},
   "outputs": [
    {
     "name": "stdout",
     "output_type": "stream",
     "text": [
      "22\n",
      "12\n",
      "85\n",
      "3.4\n",
      "1419857\n",
      "3\n",
      "2\n"
     ]
    }
   ],
   "source": [
    "a = 17\n",
    "b = 5\n",
    "\n",
    "print(a+b)\n",
    "print(a-b)\n",
    "print(a*b)\n",
    "print(a/b)\n",
    "\n",
    "print(a**b)\n",
    "print(a//b)\n",
    "print(a%b)"
   ]
  },
  {
   "cell_type": "code",
   "execution_count": 18,
   "id": "bcdad570-516f-4500-82cd-cd6ee99ce24a",
   "metadata": {},
   "outputs": [
    {
     "data": {
      "text/plain": [
       "3.4"
      ]
     },
     "execution_count": 18,
     "metadata": {},
     "output_type": "execute_result"
    }
   ],
   "source": [
    "17/5"
   ]
  },
  {
   "cell_type": "code",
   "execution_count": 21,
   "id": "a0a15e0a-d58f-4d7d-af9d-5ddd7bf18021",
   "metadata": {},
   "outputs": [
    {
     "name": "stdout",
     "output_type": "stream",
     "text": [
      "a= 17 b= 5\n",
      "**********\n",
      "False\n",
      "True\n",
      "True\n",
      "False\n",
      "True\n",
      "False\n"
     ]
    }
   ],
   "source": [
    "print('a=', a, 'b=', b)\n",
    "print('*'*10)\n",
    "print(a==b)\n",
    "print(a!=b)\n",
    "print(a>b)\n",
    "print(a<b)\n",
    "print(a>=b)\n",
    "print(a<=b)\n"
   ]
  },
  {
   "cell_type": "code",
   "execution_count": 24,
   "id": "184ebbf6-309e-4e32-9dd7-cc1917f7e4e5",
   "metadata": {},
   "outputs": [
    {
     "name": "stdout",
     "output_type": "stream",
     "text": [
      "True\n"
     ]
    }
   ],
   "source": [
    "skills = 'Python'\n",
    "exp = 6\n",
    "\n",
    "print(skills == 'Python' and exp >= 5)"
   ]
  },
  {
   "cell_type": "code",
   "execution_count": 25,
   "id": "8fffa7c9-184c-42eb-8188-b2fc33a7d45c",
   "metadata": {},
   "outputs": [
    {
     "name": "stdout",
     "output_type": "stream",
     "text": [
      "False\n"
     ]
    }
   ],
   "source": [
    "print(skills == 'Python' and exp >= 9)"
   ]
  },
  {
   "cell_type": "code",
   "execution_count": 27,
   "id": "8d30df46-9e16-4112-98d0-6ecc207b4ec9",
   "metadata": {},
   "outputs": [
    {
     "data": {
      "text/plain": [
       "'python'"
      ]
     },
     "execution_count": 27,
     "metadata": {},
     "output_type": "execute_result"
    }
   ],
   "source": [
    "'Python'.lower()"
   ]
  },
  {
   "cell_type": "code",
   "execution_count": 28,
   "id": "57128004-ce07-4761-a350-dde72615c968",
   "metadata": {},
   "outputs": [
    {
     "name": "stdout",
     "output_type": "stream",
     "text": [
      "True\n"
     ]
    }
   ],
   "source": [
    "is_sunny = False\n",
    "should_go = not(is_sunny)\n",
    "\n",
    "print(should_go)"
   ]
  },
  {
   "cell_type": "code",
   "execution_count": 33,
   "id": "e350ca38-ff60-4507-8409-31c31713ba52",
   "metadata": {},
   "outputs": [
    {
     "name": "stdout",
     "output_type": "stream",
     "text": [
      "no\n"
     ]
    }
   ],
   "source": [
    "age = 15\n",
    "if age >= 18:\n",
    "    print('Yes')\n",
    "else:\n",
    "    print('no')\n",
    "    "
   ]
  },
  {
   "cell_type": "code",
   "execution_count": 32,
   "id": "0bd8794f-d891-474d-b9a6-0ca2f6363386",
   "metadata": {},
   "outputs": [
    {
     "name": "stdout",
     "output_type": "stream",
     "text": [
      "Yes\n"
     ]
    }
   ],
   "source": [
    "age = 19\n",
    "if age >= 18:\n",
    "    print('Yes')"
   ]
  },
  {
   "cell_type": "code",
   "execution_count": 36,
   "id": "501b0d35-4981-4e77-b18b-db98cb42b4a6",
   "metadata": {},
   "outputs": [
    {
     "name": "stdin",
     "output_type": "stream",
     "text": [
      "Number 0\n"
     ]
    },
    {
     "name": "stdout",
     "output_type": "stream",
     "text": [
      "0 is even\n"
     ]
    }
   ],
   "source": [
    "num = input('Number')\n",
    "\n",
    "if int(num) % 2 == 0 :\n",
    "    print(num, 'is even')\n",
    "else:\n",
    "    print(num, 'is odd')"
   ]
  },
  {
   "cell_type": "code",
   "execution_count": 38,
   "id": "b0289bbf-fa12-472c-9ac4-b1dd8c0afee7",
   "metadata": {},
   "outputs": [
    {
     "name": "stdin",
     "output_type": "stream",
     "text": [
      "Enter Your Score 99\n"
     ]
    },
    {
     "name": "stdout",
     "output_type": "stream",
     "text": [
      "Grade A\n"
     ]
    }
   ],
   "source": [
    "score = int(input('Enter Your Score'))\n",
    "\n",
    "if score >= 90:\n",
    "    print('Grade A')\n",
    "elif score >= 80:\n",
    "    print('Grade B')\n",
    "elif score >= 70:\n",
    "    print('Grade C')\n",
    "elif score >= 60:\n",
    "    print('Grade D')\n",
    "else :\n",
    "    print('Grade F')"
   ]
  },
  {
   "cell_type": "code",
   "execution_count": 40,
   "id": "e4bb7a18-2af9-45ed-8adb-8d414461d68f",
   "metadata": {},
   "outputs": [
    {
     "name": "stdout",
     "output_type": "stream",
     "text": [
      "0 hello\n",
      "1 hello\n",
      "2 hello\n",
      "3 hello\n",
      "4 hello\n"
     ]
    }
   ],
   "source": [
    "for i in range(0,5):\n",
    "    print(i, 'hello')"
   ]
  },
  {
   "cell_type": "code",
   "execution_count": 41,
   "id": "aa998aed-c23a-43af-98e7-d3773dc06bce",
   "metadata": {},
   "outputs": [
    {
     "name": "stdout",
     "output_type": "stream",
     "text": [
      "0\n",
      "1\n",
      "2\n",
      "3\n",
      "4\n",
      "5\n",
      "6\n",
      "7\n",
      "8\n",
      "9\n",
      "done\n"
     ]
    }
   ],
   "source": [
    "a = 0\n",
    "while a < 10:\n",
    "    print(a)\n",
    "    a = a + 1\n",
    "else :\n",
    "    print('done')"
   ]
  }
 ],
 "metadata": {
  "kernelspec": {
   "display_name": "Python 3 (ipykernel)",
   "language": "python",
   "name": "python3"
  },
  "language_info": {
   "codemirror_mode": {
    "name": "ipython",
    "version": 3
   },
   "file_extension": ".py",
   "mimetype": "text/x-python",
   "name": "python",
   "nbconvert_exporter": "python",
   "pygments_lexer": "ipython3",
   "version": "3.10.9"
  }
 },
 "nbformat": 4,
 "nbformat_minor": 5
}
