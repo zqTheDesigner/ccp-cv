{
 "cells": [
  {
   "cell_type": "markdown",
   "id": "319d7569-c5d1-4477-b255-db416f7208dd",
   "metadata": {},
   "source": [
    "# Introduction to Computer Vision and OpenCV:\n",
    "\n",
    "Understand the fundamentals of computer vision and its applications.\n",
    "Learn the basics of the OpenCV library and its core functions.\n",
    "Setup your development environment with OpenCv\n",
    "Load and display images using OpenCV"
   ]
  },
  {
   "cell_type": "code",
   "execution_count": 1,
   "id": "3e309267-8895-4e66-b49c-2cdb71b51633",
   "metadata": {},
   "outputs": [],
   "source": [
    "import cv2\n",
    "import numpy as np"
   ]
  },
  {
   "cell_type": "code",
   "execution_count": null,
   "id": "e04c9dab-5a2e-411f-9ed0-7d324da66bee",
   "metadata": {},
   "outputs": [
    {
     "ename": "",
     "evalue": "",
     "output_type": "error",
     "traceback": [
      "\u001b[1;31mRunning cells with '/usr/local/bin/python3' requires the ipykernel package.\n",
      "\u001b[1;31mRun the following command to install 'ipykernel' into the Python environment. \n",
      "\u001b[1;31mCommand: '/usr/local/bin/python3 -m pip install ipykernel -U --user --force-reinstall'"
     ]
    }
   ],
   "source": [
    "%pwd"
   ]
  },
  {
   "cell_type": "code",
   "execution_count": null,
   "id": "1359ca07-4bc1-4c8e-a6fc-da3f68fe0974",
   "metadata": {},
   "outputs": [
    {
     "ename": "",
     "evalue": "",
     "output_type": "error",
     "traceback": [
      "\u001b[1;31mRunning cells with '/usr/local/bin/python3' requires the ipykernel package.\n",
      "\u001b[1;31mRun the following command to install 'ipykernel' into the Python environment. \n",
      "\u001b[1;31mCommand: '/usr/local/bin/python3 -m pip install ipykernel -U --user --force-reinstall'"
     ]
    }
   ],
   "source": [
    "cv2.__version__"
   ]
  },
  {
   "cell_type": "code",
   "execution_count": null,
   "id": "48763fc5-32e8-4e79-8232-cff390e79b5f",
   "metadata": {},
   "outputs": [
    {
     "ename": "",
     "evalue": "",
     "output_type": "error",
     "traceback": [
      "\u001b[1;31mRunning cells with '/usr/local/bin/python3' requires the ipykernel package.\n",
      "\u001b[1;31mRun the following command to install 'ipykernel' into the Python environment. \n",
      "\u001b[1;31mCommand: '/usr/local/bin/python3 -m pip install ipykernel -U --user --force-reinstall'"
     ]
    }
   ],
   "source": [
    "img = cv2.imread('./cat.jpg')"
   ]
  },
  {
   "cell_type": "code",
   "execution_count": null,
   "id": "50947836-0952-43c5-a30b-d29a0208cb53",
   "metadata": {},
   "outputs": [
    {
     "ename": "",
     "evalue": "",
     "output_type": "error",
     "traceback": [
      "\u001b[1;31mRunning cells with '/usr/local/bin/python3' requires the ipykernel package.\n",
      "\u001b[1;31mRun the following command to install 'ipykernel' into the Python environment. \n",
      "\u001b[1;31mCommand: '/usr/local/bin/python3 -m pip install ipykernel -U --user --force-reinstall'"
     ]
    }
   ],
   "source": [
    "cv2.imshow('img', img)\n",
    "cv2.waitKey(0)\n",
    "cv2.destroyAllWindows()\n",
    "cv2.waitKey(1)"
   ]
  },
  {
   "cell_type": "markdown",
   "id": "436fec87-80b3-4aa1-aa22-8c891e019b1c",
   "metadata": {},
   "source": [
    "# Image Processing Techniques using OpenCV:\n",
    "\n",
    "Implement basic image processing techniques such as resizing, cropping, and color manipulation.\n",
    "Apply various filters and enhancements to images."
   ]
  },
  {
   "cell_type": "code",
   "execution_count": null,
   "id": "5e26d721-7b82-4051-928e-ac7362d4692c",
   "metadata": {},
   "outputs": [
    {
     "ename": "",
     "evalue": "",
     "output_type": "error",
     "traceback": [
      "\u001b[1;31mRunning cells with '/usr/local/bin/python3' requires the ipykernel package.\n",
      "\u001b[1;31mRun the following command to install 'ipykernel' into the Python environment. \n",
      "\u001b[1;31mCommand: '/usr/local/bin/python3 -m pip install ipykernel -U --user --force-reinstall'"
     ]
    }
   ],
   "source": [
    "x_cord = 0\n",
    "y_cord = 0\n",
    "\n",
    "def mouse_callback(event, x, y, flats, param):\n",
    "    if event == cv2.EVENT_LBUTTONDOWN:\n",
    "        cv2.circle(img, (x,y), radius=3, color=(0, 0, 255), thickness=2)\n",
    "        cv2.putText(img, f'x:{x}', (x+10,y-10) , \n",
    "                    cv2.FONT_HERSHEY_SIMPLEX, \n",
    "                    0.5, \n",
    "                    (0,0,0), 2)\n",
    "        cv2.putText(img, f'y:{y}', (x+10,y+10) , \n",
    "                    cv2.FONT_HERSHEY_SIMPLEX, \n",
    "                    (0,0,0), 2)\n",
    "        cv2.imshow('Image', img)\n",
    "        print(f\"Coordinates: {x}, {y}\")\n",
    "\n",
    "# Create a window and set the mouse callback function\n",
    "cv2.namedWindow('Image')\n",
    "cv2.setMouseCallback('Image', mouse_callback)\n",
    "cv2.imshow('Image', img)\n",
    "cv2.waitKey(0)\n",
    "cv2.destroyAllWindows()\n",
    "cv2.waitKey(1)"
   ]
  },
  {
   "cell_type": "code",
   "execution_count": null,
   "id": "4ab6b931-1a53-4249-93b2-3fbb8fd371db",
   "metadata": {},
   "outputs": [
    {
     "ename": "",
     "evalue": "",
     "output_type": "error",
     "traceback": [
      "\u001b[1;31mRunning cells with '/usr/local/bin/python3' requires the ipykernel package.\n",
      "\u001b[1;31mRun the following command to install 'ipykernel' into the Python environment. \n",
      "\u001b[1;31mCommand: '/usr/local/bin/python3 -m pip install ipykernel -U --user --force-reinstall'"
     ]
    }
   ],
   "source": [
    "def show_img(imgs):\n",
    "    for k, img in imgs.items():\n",
    "        cv2.imshow(k, img)\n",
    "    \n",
    "    cv2.waitKey(0)\n",
    "    cv2.destroyAllWindows()\n",
    "    cv2.waitKey(1)"
   ]
  },
  {
   "cell_type": "code",
   "execution_count": null,
   "id": "3e2a9a80-2b33-4562-ba91-84ea3ed59056",
   "metadata": {},
   "outputs": [
    {
     "ename": "",
     "evalue": "",
     "output_type": "error",
     "traceback": [
      "\u001b[1;31mRunning cells with '/usr/local/bin/python3' requires the ipykernel package.\n",
      "\u001b[1;31mRun the following command to install 'ipykernel' into the Python environment. \n",
      "\u001b[1;31mCommand: '/usr/local/bin/python3 -m pip install ipykernel -U --user --force-reinstall'"
     ]
    }
   ],
   "source": [
    "cat_face = img[18:356, 103:416]\n",
    "resized = cv2.resize(img, (100,100))"
   ]
  },
  {
   "cell_type": "code",
   "execution_count": null,
   "id": "e6512853-8a60-4371-9688-81bc82fe5648",
   "metadata": {},
   "outputs": [
    {
     "ename": "",
     "evalue": "",
     "output_type": "error",
     "traceback": [
      "\u001b[1;31mRunning cells with '/usr/local/bin/python3' requires the ipykernel package.\n",
      "\u001b[1;31mRun the following command to install 'ipykernel' into the Python environment. \n",
      "\u001b[1;31mCommand: '/usr/local/bin/python3 -m pip install ipykernel -U --user --force-reinstall'"
     ]
    }
   ],
   "source": [
    "cv2.imshow('img', resized)\n",
    "cv2.waitKey(0)\n",
    "cv2.destroyAllWindows()\n",
    "cv2.waitKey(1)"
   ]
  },
  {
   "cell_type": "code",
   "execution_count": null,
   "id": "842ff086-d5d8-4914-8c5f-8cf9a113ccec",
   "metadata": {},
   "outputs": [
    {
     "ename": "",
     "evalue": "",
     "output_type": "error",
     "traceback": [
      "\u001b[1;31mRunning cells with '/usr/local/bin/python3' requires the ipykernel package.\n",
      "\u001b[1;31mRun the following command to install 'ipykernel' into the Python environment. \n",
      "\u001b[1;31mCommand: '/usr/local/bin/python3 -m pip install ipykernel -U --user --force-reinstall'"
     ]
    }
   ],
   "source": [
    "blurred_img = cv2.GaussianBlur(img, (9,9), 0)"
   ]
  },
  {
   "cell_type": "code",
   "execution_count": null,
   "id": "9311e960-f61b-46f4-ba4d-3d24ff93ea80",
   "metadata": {},
   "outputs": [
    {
     "ename": "",
     "evalue": "",
     "output_type": "error",
     "traceback": [
      "\u001b[1;31mRunning cells with '/usr/local/bin/python3' requires the ipykernel package.\n",
      "\u001b[1;31mRun the following command to install 'ipykernel' into the Python environment. \n",
      "\u001b[1;31mCommand: '/usr/local/bin/python3 -m pip install ipykernel -U --user --force-reinstall'"
     ]
    }
   ],
   "source": [
    "kernel = np.ones((5,5), np.uint8)"
   ]
  },
  {
   "cell_type": "code",
   "execution_count": null,
   "id": "af61cddc-5316-424a-977c-8399451a324b",
   "metadata": {},
   "outputs": [
    {
     "ename": "",
     "evalue": "",
     "output_type": "error",
     "traceback": [
      "\u001b[1;31mRunning cells with '/usr/local/bin/python3' requires the ipykernel package.\n",
      "\u001b[1;31mRun the following command to install 'ipykernel' into the Python environment. \n",
      "\u001b[1;31mCommand: '/usr/local/bin/python3 -m pip install ipykernel -U --user --force-reinstall'"
     ]
    }
   ],
   "source": [
    "img_gray = cv2.cvtColor(img, cv2.COLOR_BGR2GRAY)"
   ]
  },
  {
   "cell_type": "code",
   "execution_count": null,
   "id": "f81bbed1-349a-45f0-b071-513014bdc76b",
   "metadata": {},
   "outputs": [
    {
     "ename": "",
     "evalue": "",
     "output_type": "error",
     "traceback": [
      "\u001b[1;31mRunning cells with '/usr/local/bin/python3' requires the ipykernel package.\n",
      "\u001b[1;31mRun the following command to install 'ipykernel' into the Python environment. \n",
      "\u001b[1;31mCommand: '/usr/local/bin/python3 -m pip install ipykernel -U --user --force-reinstall'"
     ]
    }
   ],
   "source": [
    "_, otsu_thresholding = cv2.threshold(img_gray,0,255,cv2.THRESH_BINARY+cv2.THRESH_OTSU)"
   ]
  },
  {
   "cell_type": "code",
   "execution_count": null,
   "id": "dac56bb3-9fd5-4925-9b56-d73fe3aea660",
   "metadata": {},
   "outputs": [
    {
     "ename": "",
     "evalue": "",
     "output_type": "error",
     "traceback": [
      "\u001b[1;31mRunning cells with '/usr/local/bin/python3' requires the ipykernel package.\n",
      "\u001b[1;31mRun the following command to install 'ipykernel' into the Python environment. \n",
      "\u001b[1;31mCommand: '/usr/local/bin/python3 -m pip install ipykernel -U --user --force-reinstall'"
     ]
    }
   ],
   "source": [
    "canny = cv2.Canny(img_gray,50,300)"
   ]
  },
  {
   "cell_type": "code",
   "execution_count": null,
   "id": "57192c6f-8132-4ee1-a617-21718b5d45d7",
   "metadata": {},
   "outputs": [
    {
     "ename": "",
     "evalue": "",
     "output_type": "error",
     "traceback": [
      "\u001b[1;31mRunning cells with '/usr/local/bin/python3' requires the ipykernel package.\n",
      "\u001b[1;31mRun the following command to install 'ipykernel' into the Python environment. \n",
      "\u001b[1;31mCommand: '/usr/local/bin/python3 -m pip install ipykernel -U --user --force-reinstall'"
     ]
    }
   ],
   "source": [
    "opening = cv2.morphologyEx(otsu_thresholding, cv2.MORPH_OPEN, kernel)"
   ]
  },
  {
   "cell_type": "code",
   "execution_count": null,
   "id": "d20388ce-060f-4d4a-bf46-c8f82f6bdf42",
   "metadata": {},
   "outputs": [
    {
     "ename": "",
     "evalue": "",
     "output_type": "error",
     "traceback": [
      "\u001b[1;31mRunning cells with '/usr/local/bin/python3' requires the ipykernel package.\n",
      "\u001b[1;31mRun the following command to install 'ipykernel' into the Python environment. \n",
      "\u001b[1;31mCommand: '/usr/local/bin/python3 -m pip install ipykernel -U --user --force-reinstall'"
     ]
    }
   ],
   "source": [
    "inverted_img = 255 - img"
   ]
  },
  {
   "cell_type": "code",
   "execution_count": null,
   "id": "a9352cfe-a7e6-44ec-a4a1-835df4fabc5f",
   "metadata": {},
   "outputs": [
    {
     "ename": "",
     "evalue": "",
     "output_type": "error",
     "traceback": [
      "\u001b[1;31mRunning cells with '/usr/local/bin/python3' requires the ipykernel package.\n",
      "\u001b[1;31mRun the following command to install 'ipykernel' into the Python environment. \n",
      "\u001b[1;31mCommand: '/usr/local/bin/python3 -m pip install ipykernel -U --user --force-reinstall'"
     ]
    }
   ],
   "source": [
    "show_img({'opening':opening,\n",
    "          'otsu_thresholding':otsu_thresholding,\n",
    "          'Gaussian':blurred_img,\n",
    "          'invert':inverted_img})\n"
   ]
  },
  {
   "cell_type": "markdown",
   "id": "fda7bcc8-f688-4095-9baa-1af0b125b298",
   "metadata": {},
   "source": [
    "# Object Detection and Tracking:\n",
    "\n",
    "Implement object detection using pre-trained deep learning models (e.g., YOLO or SSD).\n",
    "Develop real-time object tracking using techniques like the Kalman filter or Mean-Shift algorithm."
   ]
  },
  {
   "cell_type": "code",
   "execution_count": null,
   "id": "02cea03b-4ccb-491e-a8b5-1ac0a2f1a7b9",
   "metadata": {
    "tags": []
   },
   "outputs": [
    {
     "ename": "",
     "evalue": "",
     "output_type": "error",
     "traceback": [
      "\u001b[1;31mRunning cells with '/usr/local/bin/python3' requires the ipykernel package.\n",
      "\u001b[1;31mRun the following command to install 'ipykernel' into the Python environment. \n",
      "\u001b[1;31mCommand: '/usr/local/bin/python3 -m pip install ipykernel -U --user --force-reinstall'"
     ]
    }
   ],
   "source": [
    "import cv2\n",
    "import tkinter as tk\n",
    "from tkinter import filedialog\n",
    "from PIL import Image, ImageTk\n",
    "\n",
    " \n",
    "\n",
    "# Load YOLO model and COCO class names\n",
    "net = cv2.dnn.readNet('yolov3.weights', 'yolov3.cfg')\n",
    "classes = []\n",
    "with open('coco.names', 'r') as f:\n",
    "    classes = f.read().strip().split('\\n')\n",
    "\n",
    " \n",
    "\n",
    "# Create a Tkinter GUI\n",
    "root = tk.Tk()\n",
    "root.title('YOLO Object Detection App')\n",
    "\n",
    " \n",
    "\n",
    "# Function to open an image using a file dialog\n",
    "def open_image():\n",
    "    file_path = filedialog.askopenfilename()\n",
    "    if file_path:\n",
    "        image = cv2.imread(file_path)\n",
    "        image = cv2.cvtColor(image, cv2.COLOR_BGR2RGB)\n",
    "        detect_objects(image)\n",
    "\n",
    " \n",
    "\n",
    "# Function to display an OpenCV image in the GUI\n",
    "def display_image(cv_image):\n",
    "    pil_image = Image.fromarray(cv_image)\n",
    "    tk_image = ImageTk.PhotoImage(image=pil_image)\n",
    "    label.config(image=tk_image)\n",
    "    label.image = tk_image\n",
    "\n",
    " \n",
    "\n",
    "# Function to perform object detection\n",
    "def detect_objects(cv_image):\n",
    "    height, width = cv_image.shape[:2]\n",
    "\n",
    " \n",
    "\n",
    "    # Prepare input image for YOLO model\n",
    "    blob = cv2.dnn.blobFromImage(cv_image, 1/255, (416, 416), swapRB=True, crop=False)\n",
    "    net.setInput(blob)\n",
    "\n",
    " \n",
    "\n",
    "    # Get detection results\n",
    "    outs = net.forward(net.getUnconnectedOutLayersNames())\n",
    "\n",
    " \n",
    "\n",
    "    # Process detection results\n",
    "    for out in outs:\n",
    "        for detection in out:\n",
    "            scores = detection[5:]\n",
    "            class_id = scores.argmax()\n",
    "            confidence = scores[class_id]\n",
    "            if confidence > 0.7:  # Set a confidence threshold\n",
    "                center_x = int(detection[0] * width)\n",
    "                center_y = int(detection[1] * height)\n",
    "                w = int(detection[2] * width)\n",
    "                h = int(detection[3] * height)\n",
    "\n",
    " \n",
    "\n",
    "                x = int(center_x - w / 2)\n",
    "                y = int(center_y - h / 2)\n",
    "\n",
    " \n",
    "\n",
    "                # Draw bounding box and class label\n",
    "                cv2.rectangle(cv_image, (x, y), (x + w, y + h), (0, 255, 0), 1)\n",
    "                label = f'{classes[class_id]}: {confidence:.2f}'\n",
    "                cv2.putText(cv_image, label, (x, y - 10), cv2.FONT_HERSHEY_SIMPLEX, 0.5, (0, 255, 0), 1)\n",
    "\n",
    " \n",
    "\n",
    "    display_image(cv_image)\n",
    "\n",
    " \n",
    "\n",
    "# Create buttons for opening an image\n",
    "open_button = tk.Button(root, text=\"Open Image\", command=open_image)\n",
    "\n",
    " \n",
    "\n",
    "# Create an image display label\n",
    "label = tk.Label(root)\n",
    "label.pack()\n",
    "\n",
    " \n",
    "\n",
    "# Place buttons in the GUI\n",
    "open_button.pack()\n",
    "\n",
    " \n",
    "\n",
    "root.mainloop()\n"
   ]
  },
  {
   "cell_type": "code",
   "execution_count": null,
   "id": "78def8ed-9088-44e8-8eb1-8273d4515f48",
   "metadata": {},
   "outputs": [
    {
     "ename": "",
     "evalue": "",
     "output_type": "error",
     "traceback": [
      "\u001b[1;31mRunning cells with '/usr/local/bin/python3' requires the ipykernel package.\n",
      "\u001b[1;31mRun the following command to install 'ipykernel' into the Python environment. \n",
      "\u001b[1;31mCommand: '/usr/local/bin/python3 -m pip install ipykernel -U --user --force-reinstall'"
     ]
    }
   ],
   "source": [
    "resized = cv2.resize(img, (416,416))\n",
    "\n",
    "scalefactor = 1.0/255.0\n",
    "size = (416,416)\n",
    "mean = (0,0) # Mean values for image Normalisation\n",
    "swapRB = True # Swap red and blue channels for image preprocessing\n",
    "crop = False # Do not crop the image during blob creation\n",
    "\n",
    "blob = cv2.dnn.blobFromImage(resized,\n",
    "                            scalefactor,\n",
    "                            size,\n",
    "                            mean,\n",
    "                            swapRB=swapRB,\n",
    "                            crop=crop)\n",
    "\n",
    "net.setInput(blob)\n",
    "output_layers = net.getUnconnectedOutLayersNames()\n",
    "outs = net.forward(output_layers)\n",
    "\n",
    "# tracker = cv2.TrackerKCF_create()\n",
    "tracker = cv2.legacy_TrackerMOSSE.create()\n",
    "\n",
    "bbox = cv2.selectROI(img, False)\n",
    "\n",
    "tracker.init(img, bbox)\n",
    "\n",
    "# cv2.waitKey(0)\n",
    "# cv2.destroyAllWindows()\n",
    "# cv2.waitKey(1)"
   ]
  },
  {
   "cell_type": "code",
   "execution_count": null,
   "id": "1be07e5f-391c-42c5-8926-68487c46abbc",
   "metadata": {},
   "outputs": [
    {
     "ename": "",
     "evalue": "",
     "output_type": "error",
     "traceback": [
      "\u001b[1;31mRunning cells with '/usr/local/bin/python3' requires the ipykernel package.\n",
      "\u001b[1;31mRun the following command to install 'ipykernel' into the Python environment. \n",
      "\u001b[1;31mCommand: '/usr/local/bin/python3 -m pip install ipykernel -U --user --force-reinstall'"
     ]
    }
   ],
   "source": [
    "outs"
   ]
  },
  {
   "cell_type": "code",
   "execution_count": null,
   "id": "b593d5e2-c763-4739-b318-1f4d2db4f720",
   "metadata": {},
   "outputs": [
    {
     "ename": "",
     "evalue": "",
     "output_type": "error",
     "traceback": [
      "\u001b[1;31mRunning cells with '/usr/local/bin/python3' requires the ipykernel package.\n",
      "\u001b[1;31mRun the following command to install 'ipykernel' into the Python environment. \n",
      "\u001b[1;31mCommand: '/usr/local/bin/python3 -m pip install ipykernel -U --user --force-reinstall'"
     ]
    }
   ],
   "source": [
    "show_img({'':resized})"
   ]
  },
  {
   "cell_type": "code",
   "execution_count": null,
   "id": "4874a0d9-04a2-427a-9f3c-b6d1ad6deeab",
   "metadata": {},
   "outputs": [
    {
     "ename": "",
     "evalue": "",
     "output_type": "error",
     "traceback": [
      "\u001b[1;31mRunning cells with '/usr/local/bin/python3' requires the ipykernel package.\n",
      "\u001b[1;31mRun the following command to install 'ipykernel' into the Python environment. \n",
      "\u001b[1;31mCommand: '/usr/local/bin/python3 -m pip install ipykernel -U --user --force-reinstall'"
     ]
    }
   ],
   "source": [
    "cv2.__version__"
   ]
  },
  {
   "cell_type": "markdown",
   "id": "64b6a440-4df8-4b37-af98-e1aa62788ed7",
   "metadata": {},
   "source": [
    "# Feature Detection and Matching:\n",
    "\n",
    "Explore feature detection methods such as SIFT or ORB.\n",
    "Implement feature matching to establish correspondence between images."
   ]
  },
  {
   "cell_type": "code",
   "execution_count": null,
   "id": "ff335229-899e-4014-9227-f414f20ea2ac",
   "metadata": {},
   "outputs": [
    {
     "ename": "",
     "evalue": "",
     "output_type": "error",
     "traceback": [
      "\u001b[1;31mRunning cells with '/usr/local/bin/python3' requires the ipykernel package.\n",
      "\u001b[1;31mRun the following command to install 'ipykernel' into the Python environment. \n",
      "\u001b[1;31mCommand: '/usr/local/bin/python3 -m pip install ipykernel -U --user --force-reinstall'"
     ]
    }
   ],
   "source": [
    "import cv2\n",
    "import numpy as np\n",
    "\n",
    "img1 = cv2.imread('./cat.jpg')\n",
    "img2 = cv2.imread('./cat2.jpg')\n",
    "\n",
    "# Create a ORB detector\n",
    "orb = cv2.ORB_create()\n",
    "\n",
    "# Find key Points and descriptors\n",
    "keypoints1, descriptors1 = orb.detectAndCompute(img1, None)\n",
    "keypoints2, descriptors2 = orb.detectAndCompute(img2, None)\n",
    "\n",
    "# Initialize Brute force matcher\n",
    "bf = cv2.BFMatcher(cv2.NORM_HAMMING, crossCheck=True)\n",
    "\n",
    "# Match Descriptors \n",
    "matches = bf.match(descriptors1, descriptors2)\n",
    "\n",
    "matching_results = cv2.drawMatches(img1, keypoints1, img2, keypoints2, matches[:30], None, flags=2)"
   ]
  },
  {
   "cell_type": "markdown",
   "id": "9768ea80-92d2-4eff-a5c0-68b0c740c92b",
   "metadata": {},
   "source": [
    "* im1 - The source image\n",
    "* keypoints1 - list of key points detected in the first image\n",
    "* im2 - second image where matches will be viualized\n",
    "* keypoints2 - List of keypoints detected in second image\n",
    "* matches[:20] - a subset of matches to be draw\n",
    "* None - Optional mask image, if provided, only the key points that are within the mask will be used in the matching visualisation \n",
    "* flats = 2 - the flag that specifies how to draw the matches\n"
   ]
  },
  {
   "cell_type": "code",
   "execution_count": null,
   "id": "0feef99c-f2ed-4bc2-95e3-c8f05ce898b3",
   "metadata": {},
   "outputs": [
    {
     "ename": "",
     "evalue": "",
     "output_type": "error",
     "traceback": [
      "\u001b[1;31mRunning cells with '/usr/local/bin/python3' requires the ipykernel package.\n",
      "\u001b[1;31mRun the following command to install 'ipykernel' into the Python environment. \n",
      "\u001b[1;31mCommand: '/usr/local/bin/python3 -m pip install ipykernel -U --user --force-reinstall'"
     ]
    }
   ],
   "source": [
    "show_img({'':matching_results})"
   ]
  },
  {
   "cell_type": "code",
   "execution_count": null,
   "id": "071221b9-0815-4b3b-8658-3d031583e7e7",
   "metadata": {},
   "outputs": [
    {
     "ename": "",
     "evalue": "",
     "output_type": "error",
     "traceback": [
      "\u001b[1;31mRunning cells with '/usr/local/bin/python3' requires the ipykernel package.\n",
      "\u001b[1;31mRun the following command to install 'ipykernel' into the Python environment. \n",
      "\u001b[1;31mCommand: '/usr/local/bin/python3 -m pip install ipykernel -U --user --force-reinstall'"
     ]
    }
   ],
   "source": [
    "show_img({'':descriptors2})"
   ]
  },
  {
   "cell_type": "markdown",
   "id": "677148e3-9ef4-4c2e-9773-0a6cf0fc3526",
   "metadata": {},
   "source": [
    "# Activity 5: Image Filtering and Transformation:\n",
    "\n",
    " Apply advanced image filtering techniques, such as Gaussian blur and edge detection.\n",
    " Explore geometric transformations like rotation, scaling, and perspective transformation."
   ]
  },
  {
   "cell_type": "code",
   "execution_count": null,
   "id": "9fc7e7cd-b353-4752-9688-aee1596fb4e2",
   "metadata": {},
   "outputs": [
    {
     "ename": "",
     "evalue": "",
     "output_type": "error",
     "traceback": [
      "\u001b[1;31mRunning cells with '/usr/local/bin/python3' requires the ipykernel package.\n",
      "\u001b[1;31mRun the following command to install 'ipykernel' into the Python environment. \n",
      "\u001b[1;31mCommand: '/usr/local/bin/python3 -m pip install ipykernel -U --user --force-reinstall'"
     ]
    }
   ],
   "source": [
    "gaussian = cv2.GaussianBlur(img1, (11,11), 9)"
   ]
  },
  {
   "cell_type": "code",
   "execution_count": null,
   "id": "be147f6f-e65e-4305-8be1-72ad2234636e",
   "metadata": {},
   "outputs": [
    {
     "ename": "",
     "evalue": "",
     "output_type": "error",
     "traceback": [
      "\u001b[1;31mRunning cells with '/usr/local/bin/python3' requires the ipykernel package.\n",
      "\u001b[1;31mRun the following command to install 'ipykernel' into the Python environment. \n",
      "\u001b[1;31mCommand: '/usr/local/bin/python3 -m pip install ipykernel -U --user --force-reinstall'"
     ]
    }
   ],
   "source": [
    "gray = cv2.cvtColor(img1, cv2.COLOR_BGR2GRAY)"
   ]
  },
  {
   "cell_type": "code",
   "execution_count": null,
   "id": "fb2934fa-229f-40ba-8218-b04c3499149e",
   "metadata": {},
   "outputs": [
    {
     "ename": "",
     "evalue": "",
     "output_type": "error",
     "traceback": [
      "\u001b[1;31mRunning cells with '/usr/local/bin/python3' requires the ipykernel package.\n",
      "\u001b[1;31mRun the following command to install 'ipykernel' into the Python environment. \n",
      "\u001b[1;31mCommand: '/usr/local/bin/python3 -m pip install ipykernel -U --user --force-reinstall'"
     ]
    }
   ],
   "source": [
    "edges = cv2.Canny(gray,100,200)"
   ]
  },
  {
   "cell_type": "code",
   "execution_count": null,
   "id": "feccdc09-ef2b-4fea-9b3d-03a8d53a9883",
   "metadata": {},
   "outputs": [
    {
     "ename": "",
     "evalue": "",
     "output_type": "error",
     "traceback": [
      "\u001b[1;31mRunning cells with '/usr/local/bin/python3' requires the ipykernel package.\n",
      "\u001b[1;31mRun the following command to install 'ipykernel' into the Python environment. \n",
      "\u001b[1;31mCommand: '/usr/local/bin/python3 -m pip install ipykernel -U --user --force-reinstall'"
     ]
    }
   ],
   "source": [
    "# Rotation\n",
    "angle = 30\n",
    "rows, cols = img1.shape[:2]\n",
    "rotation_matrix = cv2.getRotationMatrix2D((cols/2, rows/2), angle, 1)\n",
    "rotated_matrix = cv2.warpAffine(img1, rotation_matrix, (cols, rows))\n"
   ]
  },
  {
   "cell_type": "code",
   "execution_count": null,
   "id": "fbc0244a-31b4-4da3-812d-ca163849cdae",
   "metadata": {},
   "outputs": [
    {
     "ename": "",
     "evalue": "",
     "output_type": "error",
     "traceback": [
      "\u001b[1;31mRunning cells with '/usr/local/bin/python3' requires the ipykernel package.\n",
      "\u001b[1;31mRun the following command to install 'ipykernel' into the Python environment. \n",
      "\u001b[1;31mCommand: '/usr/local/bin/python3 -m pip install ipykernel -U --user --force-reinstall'"
     ]
    }
   ],
   "source": [
    "show_img({'':gaussian,\n",
    "          'cann':edges})"
   ]
  },
  {
   "cell_type": "code",
   "execution_count": null,
   "id": "0c3cd12a-643c-4f65-a788-ffcb839a5614",
   "metadata": {},
   "outputs": [
    {
     "ename": "",
     "evalue": "",
     "output_type": "error",
     "traceback": [
      "\u001b[1;31mRunning cells with '/usr/local/bin/python3' requires the ipykernel package.\n",
      "\u001b[1;31mRun the following command to install 'ipykernel' into the Python environment. \n",
      "\u001b[1;31mCommand: '/usr/local/bin/python3 -m pip install ipykernel -U --user --force-reinstall'"
     ]
    }
   ],
   "source": [
    "show_img({'':rotated_matrix})"
   ]
  },
  {
   "cell_type": "code",
   "execution_count": null,
   "id": "92df741c-4e9f-435a-9b29-362c1955d86b",
   "metadata": {},
   "outputs": [
    {
     "ename": "",
     "evalue": "",
     "output_type": "error",
     "traceback": [
      "\u001b[1;31mRunning cells with '/usr/local/bin/python3' requires the ipykernel package.\n",
      "\u001b[1;31mRun the following command to install 'ipykernel' into the Python environment. \n",
      "\u001b[1;31mCommand: '/usr/local/bin/python3 -m pip install ipykernel -U --user --force-reinstall'"
     ]
    }
   ],
   "source": [
    "scale_factor = 0.5\n",
    "scaled = cv2.resize(img1, None, fx=scale_factor, fy=scale_factor)\n"
   ]
  },
  {
   "cell_type": "code",
   "execution_count": null,
   "id": "c865097e-425a-4b22-b27b-91c287f0b0eb",
   "metadata": {},
   "outputs": [
    {
     "ename": "",
     "evalue": "",
     "output_type": "error",
     "traceback": [
      "\u001b[1;31mRunning cells with '/usr/local/bin/python3' requires the ipykernel package.\n",
      "\u001b[1;31mRun the following command to install 'ipykernel' into the Python environment. \n",
      "\u001b[1;31mCommand: '/usr/local/bin/python3 -m pip install ipykernel -U --user --force-reinstall'"
     ]
    }
   ],
   "source": [
    "show_img({'':scaled})"
   ]
  },
  {
   "cell_type": "code",
   "execution_count": null,
   "id": "040c5d46-8505-4cd4-b2b9-5b6c6616a5ca",
   "metadata": {},
   "outputs": [
    {
     "ename": "",
     "evalue": "",
     "output_type": "error",
     "traceback": [
      "\u001b[1;31mRunning cells with '/usr/local/bin/python3' requires the ipykernel package.\n",
      "\u001b[1;31mRun the following command to install 'ipykernel' into the Python environment. \n",
      "\u001b[1;31mCommand: '/usr/local/bin/python3 -m pip install ipykernel -U --user --force-reinstall'"
     ]
    }
   ],
   "source": [
    "# Perspective transformation\n",
    "pts1 = np.float32([[50,50], [200,50], [50, 200], [200, 200]])\n",
    "pts2 = np.float32([[0,0], [250,0], [0, 250], [250, 250]])\n",
    "\n",
    "perspective_matrix = cv2.getPerspectiveTransform(pts1, pts2)\n",
    "perspective_transformed = cv2.warpPerspective(img1, perspective_matrix, (250,250))"
   ]
  },
  {
   "cell_type": "code",
   "execution_count": null,
   "id": "f1ebf3b4-fe3c-455b-ae15-d4c8090a183f",
   "metadata": {},
   "outputs": [
    {
     "ename": "",
     "evalue": "",
     "output_type": "error",
     "traceback": [
      "\u001b[1;31mRunning cells with '/usr/local/bin/python3' requires the ipykernel package.\n",
      "\u001b[1;31mRun the following command to install 'ipykernel' into the Python environment. \n",
      "\u001b[1;31mCommand: '/usr/local/bin/python3 -m pip install ipykernel -U --user --force-reinstall'"
     ]
    }
   ],
   "source": [
    "show_img({'':perspective_transformed})"
   ]
  },
  {
   "cell_type": "markdown",
   "id": "de4361ff-2081-4cb5-a025-f67360a4848c",
   "metadata": {},
   "source": [
    "# Activity 6: Advanced Computer Vision Techniques:\n",
    " Dive into advanced techniques like image segmentation and contour detection.\n",
    "\n",
    " Implement optical flow for motion analysis"
   ]
  },
  {
   "cell_type": "code",
   "execution_count": null,
   "id": "9198f26a-84a1-4be0-bab8-7f0f4a887c57",
   "metadata": {},
   "outputs": [
    {
     "ename": "",
     "evalue": "",
     "output_type": "error",
     "traceback": [
      "\u001b[1;31mRunning cells with '/usr/local/bin/python3' requires the ipykernel package.\n",
      "\u001b[1;31mRun the following command to install 'ipykernel' into the Python environment. \n",
      "\u001b[1;31mCommand: '/usr/local/bin/python3 -m pip install ipykernel -U --user --force-reinstall'"
     ]
    }
   ],
   "source": [
    "import cv2 \n",
    "import numpy as np\n",
    "\n",
    "img = cv2.imread('cat.jpg', )\n",
    "gray = cv2.cvtColor(img, cv2.COLOR_BGR2GRAY)"
   ]
  },
  {
   "cell_type": "code",
   "execution_count": null,
   "id": "4a015f64-67ee-4d72-bc6e-4b844f455fa0",
   "metadata": {},
   "outputs": [
    {
     "ename": "",
     "evalue": "",
     "output_type": "error",
     "traceback": [
      "\u001b[1;31mRunning cells with '/usr/local/bin/python3' requires the ipykernel package.\n",
      "\u001b[1;31mRun the following command to install 'ipykernel' into the Python environment. \n",
      "\u001b[1;31mCommand: '/usr/local/bin/python3 -m pip install ipykernel -U --user --force-reinstall'"
     ]
    }
   ],
   "source": [
    "edges = cv2.Canny(gray, 100, 200)"
   ]
  },
  {
   "cell_type": "code",
   "execution_count": null,
   "id": "4b2cd483-c3fb-47af-ad4f-b3f810c7e356",
   "metadata": {},
   "outputs": [
    {
     "ename": "",
     "evalue": "",
     "output_type": "error",
     "traceback": [
      "\u001b[1;31mRunning cells with '/usr/local/bin/python3' requires the ipykernel package.\n",
      "\u001b[1;31mRun the following command to install 'ipykernel' into the Python environment. \n",
      "\u001b[1;31mCommand: '/usr/local/bin/python3 -m pip install ipykernel -U --user --force-reinstall'"
     ]
    }
   ],
   "source": [
    "contours, _ = cv2.findContours(edges.copy(), cv2.RETR_EXTERNAL, cv2.CHAIN_APPROX_SIMPLE)"
   ]
  },
  {
   "cell_type": "code",
   "execution_count": null,
   "id": "453320e9-5934-4076-98a8-131c1299dd68",
   "metadata": {},
   "outputs": [
    {
     "ename": "",
     "evalue": "",
     "output_type": "error",
     "traceback": [
      "\u001b[1;31mRunning cells with '/usr/local/bin/python3' requires the ipykernel package.\n",
      "\u001b[1;31mRun the following command to install 'ipykernel' into the Python environment. \n",
      "\u001b[1;31mCommand: '/usr/local/bin/python3 -m pip install ipykernel -U --user --force-reinstall'"
     ]
    }
   ],
   "source": [
    "contour_images = img.copy()"
   ]
  },
  {
   "cell_type": "code",
   "execution_count": null,
   "id": "bbb289aa-4b50-4c12-a3af-0bead156b8ac",
   "metadata": {},
   "outputs": [
    {
     "ename": "",
     "evalue": "",
     "output_type": "error",
     "traceback": [
      "\u001b[1;31mRunning cells with '/usr/local/bin/python3' requires the ipykernel package.\n",
      "\u001b[1;31mRun the following command to install 'ipykernel' into the Python environment. \n",
      "\u001b[1;31mCommand: '/usr/local/bin/python3 -m pip install ipykernel -U --user --force-reinstall'"
     ]
    }
   ],
   "source": [
    "# Draw and display contours \n",
    "cv2.drawContours(contour_images, contours, -1, (0, 255, 0), 2)"
   ]
  },
  {
   "cell_type": "code",
   "execution_count": null,
   "id": "19ffcc45-cbf2-45e1-8d70-16d3a2fa267f",
   "metadata": {},
   "outputs": [
    {
     "ename": "",
     "evalue": "",
     "output_type": "error",
     "traceback": [
      "\u001b[1;31mRunning cells with '/usr/local/bin/python3' requires the ipykernel package.\n",
      "\u001b[1;31mRun the following command to install 'ipykernel' into the Python environment. \n",
      "\u001b[1;31mCommand: '/usr/local/bin/python3 -m pip install ipykernel -U --user --force-reinstall'"
     ]
    }
   ],
   "source": [
    "show_img({'':contour_images})"
   ]
  },
  {
   "cell_type": "markdown",
   "id": "006fda68-de0b-46f4-867c-a7c63f08edd6",
   "metadata": {},
   "source": [
    "## Implement optical flow for motion analysis."
   ]
  },
  {
   "cell_type": "code",
   "execution_count": null,
   "id": "d8924c9c-5572-4d39-8f38-a98159f61958",
   "metadata": {},
   "outputs": [
    {
     "ename": "",
     "evalue": "",
     "output_type": "error",
     "traceback": [
      "\u001b[1;31mRunning cells with '/usr/local/bin/python3' requires the ipykernel package.\n",
      "\u001b[1;31mRun the following command to install 'ipykernel' into the Python environment. \n",
      "\u001b[1;31mCommand: '/usr/local/bin/python3 -m pip install ipykernel -U --user --force-reinstall'"
     ]
    }
   ],
   "source": [
    "import cv2 \n",
    "import numpy as np\n",
    "\n",
    "# Capture video feed \n",
    "cap = cv2.VideoCapture(0)\n",
    "\n",
    "# Read the frame\n",
    "ret1, frame1 = cap.read()\n",
    "prev_gray = cv2.cvtColor(frame1, cv2.COLOR_BGR2GRAY)\n",
    "\n",
    "while cap.isOpened():\n",
    "    ret, frame2 = cap.read()\n",
    "    current_gray = cv2.cvtColor(frame2, cv2.COLOR_BGR2GRAY)\n",
    "\n",
    "    # Calculate optical flow\n",
    "    flow = cv2.calcOpticalFlowFarneback(prev_gray, current_gray, None, 0.5, 3, 15, 3, 5, 1.2, 0)\n",
    "\n",
    "    # Draw motion vectors\n",
    "    motion_image = np.copy(frame2)\n",
    "    for y in range(0, motion_image.shape[0], 10):\n",
    "        for x in range(0, motion_image.shape[1], 10):\n",
    "            dx, dy = flow[y, x]\n",
    "            cv2.arrowedLine(motion_image, (x, y), (int(x+dx), int(y+dy)), (0, 0, 255), 1)\n",
    "    \n",
    "    prev_gray = current_gray\n",
    "\n",
    "    # cv2.imshow('Video', frame1)\n",
    "    # cv2.imshow('Gray Video', prev_gray)\n",
    "    cv2.imshow('Optical Flow', motion_image)\n",
    "\n",
    "    if cv2.waitKey(1) & 0xFF == ord('q'):\n",
    "        break\n",
    "\n",
    "cap.release()\n",
    "cv2.destroyAllWindows()\n",
    "cv2.waitKey(1)\n",
    "\n",
    "\n",
    "    "
   ]
  },
  {
   "cell_type": "code",
   "execution_count": null,
   "id": "b52b53ad-e250-42d1-bbf0-d75a58faaeef",
   "metadata": {},
   "outputs": [
    {
     "ename": "",
     "evalue": "",
     "output_type": "error",
     "traceback": [
      "\u001b[1;31mRunning cells with '/usr/local/bin/python3' requires the ipykernel package.\n",
      "\u001b[1;31mRun the following command to install 'ipykernel' into the Python environment. \n",
      "\u001b[1;31mCommand: '/usr/local/bin/python3 -m pip install ipykernel -U --user --force-reinstall'"
     ]
    }
   ],
   "source": [
    "# UI"
   ]
  },
  {
   "cell_type": "code",
   "execution_count": null,
   "id": "d392b35b-4106-4db0-8106-b9c29ee698a8",
   "metadata": {
    "tags": []
   },
   "outputs": [
    {
     "ename": "",
     "evalue": "",
     "output_type": "error",
     "traceback": [
      "\u001b[1;31mRunning cells with '/usr/local/bin/python3' requires the ipykernel package.\n",
      "\u001b[1;31mRun the following command to install 'ipykernel' into the Python environment. \n",
      "\u001b[1;31mCommand: '/usr/local/bin/python3 -m pip install ipykernel -U --user --force-reinstall'"
     ]
    }
   ],
   "source": [
    "import cv2\n",
    "import tkinter as tk\n",
    "from tkinter import filedialog\n",
    "from PIL import Image, ImageTk\n",
    "\n",
    "\n",
    "\n",
    "\n",
    "# Create a Tinker GUI\n",
    "root = tk.Tk()\n",
    "root.title('Open CV Image Processing APP') \n",
    "\n",
    "\n",
    "\n",
    "\n",
    "# Function to open a image\n",
    "def oepn_image():\n",
    "    file_path = filedialog.askopenfilename()\n",
    "    if file_path:\n",
    "        image = cv2.imread(file_path)\n",
    "        image = cv2.cvtColor(image, cv2.COLOR_BGR2RGB)\n",
    "        display_image(image)\n",
    "\n",
    "# Function to display image\n",
    "def display_image(image):\n",
    "    pil_image = Image.fromarray(image)\n",
    "    tk_image = ImageTk.PhotoImage(image = pil_image)\n",
    "    label.config(image = tk_image)\n",
    "    label.image = tk_image\n",
    "\n",
    "\n",
    "# Create a button\n",
    "open_button = tk.Button(root, text = 'Open Image', command = oepn_image)\n",
    "\n",
    "# Create an Image display label \n",
    "label = tk.Label(root)\n",
    "label.pack()\n",
    "\n",
    "# Plaace the button\n",
    "open_button.pack()\n",
    "\n",
    "root.mainloop()"
   ]
  },
  {
   "cell_type": "code",
   "execution_count": null,
   "id": "d4e118c4-a979-45e3-bba3-1a042e7b1429",
   "metadata": {
    "tags": []
   },
   "outputs": [
    {
     "ename": "",
     "evalue": "",
     "output_type": "error",
     "traceback": [
      "\u001b[1;31mRunning cells with '/usr/local/bin/python3' requires the ipykernel package.\n",
      "\u001b[1;31mRun the following command to install 'ipykernel' into the Python environment. \n",
      "\u001b[1;31mCommand: '/usr/local/bin/python3 -m pip install ipykernel -U --user --force-reinstall'"
     ]
    }
   ],
   "source": [
    "# from tkmacosx import Label\n",
    "\n",
    "import cv2\n",
    "import tkinter as tk\n",
    "from tkinter import filedialog\n",
    "from PIL import Image, ImageTk\n",
    "\n",
    " \n",
    "\n",
    "#Create a Tinker GUI\n",
    "root = tk.Tk()\n",
    "root.title(\"OpenCV Image Processing APP\")\n",
    "\n",
    " \n",
    "\n",
    "#Function to open a image\n",
    "def open_image():\n",
    "    file_path = filedialog.askopenfilename()\n",
    "    if file_path:\n",
    "        img = cv2.imread(file_path)\n",
    "        img_cvt = cv2.cvtColor(img , cv2.COLOR_BGR2RGB)\n",
    "        display_image(img_cvt)\n",
    "\n",
    " \n",
    "\n",
    "#Function to display image\n",
    "def display_image(image):\n",
    "    pil_image = Image.fromarray(image)\n",
    "    tk_image = ImageTk.PhotoImage(image = pil_image)\n",
    "    label.config(image = tk_image)\n",
    "    label.image = tk_image\n",
    "    label.pack()\n",
    "\n",
    "def convert_to_grayscale():\n",
    "    \n",
    "    pass\n",
    "\n",
    "\n",
    "def edge_detect():\n",
    "    pass\n",
    "\n",
    "#Create a button \n",
    "open_button = tk.Button(root , text = \"Open Image\" , command = open_image)\n",
    "grayscale_button = tk.Button(root, text='Convert to grayScale', command=convert_to_grayscale)\n",
    "edge_button = tk.Button(root, text='Edge Detection', command=edge_detect)\n",
    "\n",
    "#Create an Image display label\n",
    "label = tk.Label(root)\n",
    "label.pack()\n",
    "\n",
    " \n",
    "\n",
    "#Place the button\n",
    "open_button.pack()\n",
    "grayscale_button.pack()\n",
    "edge_button.pack()\n",
    " \n",
    "\n",
    "root.mainloop()"
   ]
  },
  {
   "cell_type": "code",
   "execution_count": 1,
   "id": "8b677075-a14e-46b4-8056-6fd605e6cc72",
   "metadata": {},
   "outputs": [
    {
     "name": "stderr",
     "output_type": "stream",
     "text": [
      "2023-08-22 01:41:38.026 python3.10[34484:178590] +[CATransaction synchronize] called within transaction\n",
      "2023-08-22 01:41:38.185 python3.10[34484:178590] +[CATransaction synchronize] called within transaction\n"
     ]
    }
   ],
   "source": [
    "import cv2\n",
    "import tkinter as tk\n",
    "from tkinter import filedialog\n",
    "from PIL import Image, ImageTk\n",
    "\n",
    " \n",
    "\n",
    "# Load YOLO model and COCO class names\n",
    "net = cv2.dnn.readNet('yolov3.weights', 'yolov3.cfg')\n",
    "classes = []\n",
    "with open('coco.names', 'r') as f:\n",
    "    classes = f.read().strip().split('\\n')\n",
    "\n",
    " \n",
    "\n",
    "# Create a Tkinter GUI\n",
    "root = tk.Tk()\n",
    "root.title('YOLO Object Detection App')\n",
    "\n",
    " \n",
    "\n",
    "# Function to open an image using a file dialog\n",
    "def open_image():\n",
    "    file_path = filedialog.askopenfilename()\n",
    "    if file_path:\n",
    "        image = cv2.imread(file_path)\n",
    "        image = cv2.cvtColor(image, cv2.COLOR_BGR2RGB)\n",
    "        detect_objects(image)\n",
    "\n",
    "def convert_to_grayscale():\n",
    "    gray_image = cv2.cvtColor(my_image , cv2.COLOR_BGR2GRAY)\n",
    "    display_image(gray_image)\n",
    "\n",
    " \n",
    "\n",
    "def edge_detect():\n",
    "    edges = cv2.Canny(my_image , 100 , 200)\n",
    "    display_image(edges)\n",
    "\n",
    " \n",
    "\n",
    "#Create a button \n",
    "\n",
    "\n",
    "# Function to display an OpenCV image in the GUI\n",
    "def display_image(cv_image):\n",
    "    pil_image = Image.fromarray(cv_image)\n",
    "    tk_image = ImageTk.PhotoImage(image=pil_image)\n",
    "    label.config(image=tk_image)\n",
    "    label.image = tk_image\n",
    "\n",
    " \n",
    "\n",
    "# Function to perform object detection\n",
    "def detect_objects(cv_image):\n",
    "    height, width = cv_image.shape[:2]\n",
    "\n",
    " \n",
    "\n",
    "    # Prepare input image for YOLO model\n",
    "    blob = cv2.dnn.blobFromImage(cv_image, 1/255, (416, 416), swapRB=True, crop=False)\n",
    "    net.setInput(blob)\n",
    "\n",
    " \n",
    "\n",
    "    # Get detection results\n",
    "    outs = net.forward(net.getUnconnectedOutLayersNames())\n",
    "\n",
    " \n",
    "\n",
    "    # Process detection results\n",
    "    for out in outs:\n",
    "        for detection in out:\n",
    "            scores = detection[5:]\n",
    "            class_id = scores.argmax()\n",
    "            confidence = scores[class_id]\n",
    "            if confidence > 0.7:  # Set a confidence threshold\n",
    "                center_x = int(detection[0] * width)\n",
    "                center_y = int(detection[1] * height)\n",
    "                w = int(detection[2] * width)\n",
    "                h = int(detection[3] * height)\n",
    "\n",
    " \n",
    "\n",
    "                x = int(center_x - w / 2)\n",
    "                y = int(center_y - h / 2)\n",
    "\n",
    " \n",
    "\n",
    "                # Draw bounding box and class label\n",
    "                cv2.rectangle(cv_image, (x, y), (x + w, y + h), (0, 255, 0), 1)\n",
    "                label = f'{classes[class_id]}: {confidence:.2f}'\n",
    "                cv2.putText(cv_image, label, (x, y - 10), cv2.FONT_HERSHEY_SIMPLEX, 0.5, (0, 255, 0), 1)\n",
    "\n",
    " \n",
    "\n",
    "    display_image(cv_image)\n",
    "\n",
    " \n",
    "\n",
    "# Create buttons for opening an image\n",
    "open_button = tk.Button(root, text=\"Open Image\", command=open_image)\n",
    "grayscale_button = tk.Button(root , text = \"Convert to grayScale\" , command = convert_to_grayscale)\n",
    "edge_button = tk.Button(root , text = \"Edge Detection\" , command = edge_detect)\n",
    " \n",
    "\n",
    "# Create an image display label\n",
    "label = tk.Label(root)\n",
    "label.pack()\n",
    "\n",
    " \n",
    "\n",
    "# Place buttons in the GUI\n",
    "open_button.pack()\n",
    "grayscale_button.pack()\n",
    "edge_button.pack()\n",
    "\n",
    " \n",
    "\n",
    "root.mainloop()\n",
    " "
   ]
  },
  {
   "cell_type": "code",
   "execution_count": 4,
   "id": "005f358e-4150-421b-9889-31068434490b",
   "metadata": {},
   "outputs": [
    {
     "ename": "PyNoAppError",
     "evalue": "The wx.App object must be created first!",
     "output_type": "error",
     "traceback": [
      "\u001b[0;31m---------------------------------------------------------------------------\u001b[0m",
      "\u001b[0;31mPyNoAppError\u001b[0m                              Traceback (most recent call last)",
      "Cell \u001b[0;32mIn[4], line 11\u001b[0m\n\u001b[1;32m      8\u001b[0m img \u001b[38;5;241m=\u001b[39m \u001b[38;5;28;01mNone\u001b[39;00m\n\u001b[1;32m     10\u001b[0m \u001b[38;5;66;03m# Then a frame.\u001b[39;00m\n\u001b[0;32m---> 11\u001b[0m frm \u001b[38;5;241m=\u001b[39m \u001b[43mwx\u001b[49m\u001b[38;5;241;43m.\u001b[39;49m\u001b[43mFrame\u001b[49m\u001b[43m(\u001b[49m\u001b[38;5;28;43;01mNone\u001b[39;49;00m\u001b[43m,\u001b[49m\u001b[43m \u001b[49m\u001b[43mtitle\u001b[49m\u001b[38;5;241;43m=\u001b[39;49m\u001b[38;5;124;43m\"\u001b[39;49m\u001b[38;5;124;43mHello World\u001b[39;49m\u001b[38;5;124;43m\"\u001b[39;49m\u001b[43m)\u001b[49m\n\u001b[1;32m     13\u001b[0m \u001b[38;5;28;01mdef\u001b[39;00m \u001b[38;5;21monOpen\u001b[39m(event):\n\u001b[1;32m     14\u001b[0m     \u001b[38;5;28mprint\u001b[39m(\u001b[38;5;124m'\u001b[39m\u001b[38;5;124mtest on open\u001b[39m\u001b[38;5;124m'\u001b[39m)\n",
      "\u001b[0;31mPyNoAppError\u001b[0m: The wx.App object must be created first!"
     ]
    }
   ],
   "source": [
    "# First things, first. Import the wxPython package.\n",
    "import wx\n",
    "\n",
    "# Next, create an application object.\n",
    "app = wx.App()\n",
    "\n",
    "img = None\n",
    "\n",
    "# Then a frame.\n",
    "frm = wx.Frame(None, title=\"Hello World\")\n",
    "\n",
    "def onOpen(event):\n",
    "    print('test on open')\n",
    "\n",
    "    # otherwise ask the user what new file to open\n",
    "    with wx.FileDialog(None, \"Open XYZ file\",\n",
    "                       style=wx.FD_OPEN | wx.FD_FILE_MUST_EXIST) as fileDialog:\n",
    "\n",
    "        if fileDialog.ShowModal() == wx.ID_CANCEL:\n",
    "            return     # the user changed their mind\n",
    "\n",
    "        # Proceed loading the file chosen by the user\n",
    "        pathname = fileDialog.GetPath()\n",
    "\n",
    "\n",
    "\n",
    "\n",
    "\n",
    "\n",
    "button = wx.Button(frm, wx.ID_ANY, 'Test', (10, 10))\n",
    "button.Bind(wx.EVT_BUTTON, onOpen)\n",
    "\n",
    "# Show it.\n",
    "frm.Show()\n",
    "\n",
    "# Start the event loop.\n",
    "app.MainLoop()"
   ]
  },
  {
   "cell_type": "code",
   "execution_count": null,
   "id": "9763b83d-e7a7-40d8-beea-8a8f7092e7e5",
   "metadata": {},
   "outputs": [],
   "source": [
    "import wx\n",
    "import cv2\n",
    "from PIL import Image\n",
    "\n",
    "class Frame(wx.Frame):\n",
    "\n",
    "    def __init__(self, parent):\n",
    "        super().__init__(parent)\n",
    "        \n",
    "        # self.MainPanel = wx.Panel(self)\n",
    "\n",
    "        fgs = wx.FlexGridSizer(3, 2, 10, 10)\n",
    "        fgs.AddGrowableRow(0)\n",
    "\n",
    "        self.staticbitmap = wx.StaticBitmap(self)\n",
    "        fgs.Add(self.staticbitmap, 0, wx.EXPAND)\n",
    "\n",
    "        fgs.RemoveGrowableRow(0)\n",
    "        browse = wx.Button(self, label='Browse')\n",
    "        browse.Bind(wx.EVT_BUTTON, self.OnBrowse)\n",
    "        fgs.Add(browse,1, flag=wx.LEFT)\n",
    "\n",
    "        to_gray = wx.Button(self, label='To Gray')\n",
    "        to_gray.Bind(wx.EVT_BUTTON, self.ToGray)\n",
    "        fgs.Add(to_gray,2, flag=wx.RIGHT)\n",
    "\n",
    "        detect_edge = wx.Button(self, label='Detect Edge')\n",
    "        detect_edge.Bind(wx.EVT_BUTTON, self.DetectEdges)\n",
    "        fgs.Add(detect_edge, 2, 2)\n",
    "        \n",
    "        self.SetSizer(fgs)\n",
    "\n",
    "    def OnBrowse(self, event):\n",
    "        wildcard = 'PNG files (*.png)|*.png|BMP files (*.bmp)|*.bmp|JPEG files (*.jpg)|*.jpg'\n",
    "        openFileDialog = wx.FileDialog(self, \"Open\", \"\", \"\", wildcard,\n",
    "                                       wx.FD_OPEN | wx.FD_FILE_MUST_EXIST)\n",
    "        openFileDialog.ShowModal()\n",
    "        file_path = openFileDialog.GetPath()\n",
    "        self.img =  cv2.imread(file_path)\n",
    "        self.img = cv2.cvtColor(self.img, cv2.COLOR_BGR2RGB)\n",
    "        self.UpdateImage()\n",
    "        event.Skip()\n",
    "\n",
    "    def ToGray(self, event):\n",
    "        self.img = cv2.cvtColor(self.img, cv2.COLOR_RGB2GRAY)\n",
    "\n",
    "        # Because wx buffer object need image to be RGB format\n",
    "        self.img = cv2.cvtColor(self.img, cv2.COLOR_GRAY2RGB)\n",
    "        self.UpdateImage()\n",
    "        event.Skip()\n",
    "\n",
    "    def UpdateImage(self):\n",
    "        bmp = wx.BitmapFromBuffer(self.img.shape[1], self.img.shape[0], self.img)\n",
    "        self.staticbitmap.SetBitmap(bmp)\n",
    "\n",
    "    def DetectEdges(self, event):\n",
    "        edges = cv2.Canny(self.img , 100 , 200)\n",
    "        edges = Image.fromarray(edges)\n",
    "        edges_img = wx.Image(edges.size[0], edges.size[1])\n",
    "        edges_img.SetData(pil_image.convert(\"RGB\").tobytes())\n",
    "        \n",
    "        bitmap = wx.Bitmap(edges_img)\n",
    "        self.staticbitmap.SetBitmap(bmp)\n",
    "        event.Skip()\n",
    "\n",
    "\n",
    "app = wx.App()\n",
    "frame = Frame(None)\n",
    "frame.Show()\n",
    "app.MainLoop()"
   ]
  },
  {
   "cell_type": "code",
   "execution_count": null,
   "id": "43f9f0b2-489c-4089-a063-b52ca8e6a63f",
   "metadata": {},
   "outputs": [],
   "source": []
  }
 ],
 "metadata": {
  "kernelspec": {
   "display_name": "Python 3 (ipykernel)",
   "language": "python",
   "name": "python3"
  },
  "language_info": {
   "codemirror_mode": {
    "name": "ipython",
    "version": 3
   },
   "file_extension": ".py",
   "mimetype": "text/x-python",
   "name": "python",
   "nbconvert_exporter": "python",
   "pygments_lexer": "ipython3",
   "version": "3.11.1"
  },
  "vscode": {
   "interpreter": {
    "hash": "4577c575304bd57450efa0887514a7a6ad8943bc9f531ee4ba684ec7065e2a8f"
   }
  }
 },
 "nbformat": 4,
 "nbformat_minor": 5
}
