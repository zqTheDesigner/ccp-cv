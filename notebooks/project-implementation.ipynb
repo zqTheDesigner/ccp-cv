{
 "cells": [
  {
   "cell_type": "code",
   "execution_count": 1,
   "id": "52491a0d-1cf7-4479-ad63-1186b1c0fea7",
   "metadata": {},
   "outputs": [],
   "source": [
    "import cv2\n",
    "import numpy as np"
   ]
  },
  {
   "cell_type": "code",
   "execution_count": 2,
   "id": "0085aef0-1fa0-44fb-a7ba-db6efe09a12e",
   "metadata": {},
   "outputs": [],
   "source": [
    "def show_img(imgs):\n",
    "    for k, img in imgs.items():\n",
    "        cv2.imshow(k, img)\n",
    "    \n",
    "    cv2.waitKey(0)\n",
    "    cv2.destroyAllWindows()\n",
    "    cv2.waitKey(1)"
   ]
  },
  {
   "cell_type": "code",
   "execution_count": 3,
   "id": "f3db4a08-e881-4fee-a185-de18e1ae957d",
   "metadata": {},
   "outputs": [],
   "source": [
    "image = cv2.imread('../images/cat.jpg')\n",
    "\n",
    "cropped = image[0:300, 0:300]\n",
    "\n",
    "gray_img = cv2.cvtColor(image, cv2.COLOR_BGR2GRAY)\n",
    "\n",
    "#Gaussian Blur\n",
    "blurred_image = cv2.GaussianBlur(image , (21,21) , 0)\n",
    "#Canny\n",
    "edges = cv2.Canny(image , 120 , 220)\n",
    "\n",
    "#Color Manipulation - Invert color\n",
    "inverted_image = 255 - image\n",
    "\n",
    "show_img({'inverted_image':inverted_image})\n"
   ]
  },
  {
   "cell_type": "code",
   "execution_count": 15,
   "id": "6060ad86-71e0-4bec-8886-b7d6d233e41b",
   "metadata": {},
   "outputs": [],
   "source": [
    "#Rotation\n",
    "angle = 30\n",
    "rows,cols = image.shape[:2]\n",
    "rotation_matrix = cv2.getRotationMatrix2D((cols/2 , rows/2) , angle , 1)\n",
    "rotated_matrix = cv2.warpAffine(image , rotation_matrix , (cols,rows))\n",
    "\n",
    "#Scaling\n",
    "scale_factor = 0.5\n",
    "scaled_image = cv2.resize(image , None , fx=scale_factor , fy = scale_factor)\n",
    "\n",
    "#Perspective transformation\n",
    "pts1 = np.float32([[50,100] , [200,30] , [50,200] , [200,200]])\n",
    "pts2 = np.float32([[0,0] , [100,0] , [0,100] , [100,150]])\n",
    "perspective_matrix = cv2.getPerspectiveTransform(pts1,pts2)\n",
    "perspective_transformed_image = cv2.warpPerspective(image, perspective_matrix , (250,250))\n",
    "\n"
   ]
  },
  {
   "cell_type": "code",
   "execution_count": 16,
   "id": "2defb6dd-ad03-41e8-9da3-11d51fc0f345",
   "metadata": {},
   "outputs": [],
   "source": [
    "gray = cv2.cvtColor(image, cv2.COLOR_BGR2GRAY)\n",
    "\n",
    "#Gaussian Blur\n",
    "blurred_image = cv2.GaussianBlur(image , (5,5) , 0)\n",
    "\n",
    "#Canny\n",
    "edges = cv2.Canny(image , 100 ,200)\n",
    "\n",
    "#Identify contours in edge detected images\n",
    "contours, _ = cv2.findContours(edges.copy(), cv2.RETR_EXTERNAL, cv2.CHAIN_APPROX_SIMPLE)\n",
    "#print(contours)\n",
    "\n",
    "#Create a copy of the original image for drawing contours\n",
    "contour_image = image.copy()\n",
    "\n",
    "#Draw and display contours\n",
    "cv2.drawContours(contour_image , contours , -1 , (0,255,0) , 2)\n",
    "show_img({'contour_image':contour_image})"
   ]
  }
 ],
 "metadata": {
  "kernelspec": {
   "display_name": "Python 3 (ipykernel)",
   "language": "python",
   "name": "python3"
  },
  "language_info": {
   "codemirror_mode": {
    "name": "ipython",
    "version": 3
   },
   "file_extension": ".py",
   "mimetype": "text/x-python",
   "name": "python",
   "nbconvert_exporter": "python",
   "pygments_lexer": "ipython3",
   "version": "3.10.12"
  }
 },
 "nbformat": 4,
 "nbformat_minor": 5
}
