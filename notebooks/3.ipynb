{
 "cells": [
  {
   "cell_type": "code",
   "execution_count": 5,
   "id": "434e1a89-17a9-47a6-a926-c48261277860",
   "metadata": {},
   "outputs": [],
   "source": [
    "import cv2"
   ]
  },
  {
   "cell_type": "code",
   "execution_count": 2,
   "id": "777f0021-f351-4067-a4ff-31a4bb108485",
   "metadata": {},
   "outputs": [],
   "source": [
    "img = cv2.imread('./people.jpeg')\n",
    "\n",
    "img = cv2.resize(img, (0,0), fx=0.5, fy=0.5)"
   ]
  },
  {
   "cell_type": "code",
   "execution_count": 5,
   "id": "8f4cece5-2ac5-4720-b029-69952d2a1969",
   "metadata": {},
   "outputs": [],
   "source": [
    "cascpath = './haarcascade_frontalface_default.xml'"
   ]
  },
  {
   "cell_type": "code",
   "execution_count": 6,
   "id": "56933a3c-8e94-469d-841e-7eaf30d0403c",
   "metadata": {},
   "outputs": [],
   "source": [
    "face_cascade = cv2.CascadeClassifier(cascpath)"
   ]
  },
  {
   "cell_type": "code",
   "execution_count": 5,
   "id": "f7d82a9f-d447-4d42-9555-29991c73a649",
   "metadata": {},
   "outputs": [],
   "source": [
    "faces = face_cascade.detectMultiScale(img, \n",
    "                                      scaleFactor=1.1, \n",
    "                                      minNeighbors=1)"
   ]
  },
  {
   "cell_type": "code",
   "execution_count": 9,
   "id": "c0df10da-84f4-4200-b3c1-2bfd1c7477f8",
   "metadata": {},
   "outputs": [],
   "source": [
    "for (x,y,w,h) in faces:\n",
    "    cv2.rectangle(img, (x,y), (x+w, y+h), (255,0,0), 2)"
   ]
  },
  {
   "cell_type": "code",
   "execution_count": 10,
   "id": "15fce3bc-da8b-4cbc-96b2-5d6bb074c914",
   "metadata": {},
   "outputs": [
    {
     "data": {
      "text/plain": [
       "array([[[ 89,  93, 212],\n",
       "        [ 89,  93, 212],\n",
       "        [ 89,  93, 212],\n",
       "        ...,\n",
       "        [ 84,  86, 194],\n",
       "        [ 84,  86, 194],\n",
       "        [ 84,  86, 194]],\n",
       "\n",
       "       [[ 89,  93, 212],\n",
       "        [ 89,  93, 212],\n",
       "        [ 89,  93, 212],\n",
       "        ...,\n",
       "        [ 84,  86, 194],\n",
       "        [ 84,  86, 194],\n",
       "        [ 84,  86, 194]],\n",
       "\n",
       "       [[ 89,  93, 212],\n",
       "        [ 89,  93, 212],\n",
       "        [ 89,  93, 212],\n",
       "        ...,\n",
       "        [ 84,  86, 194],\n",
       "        [ 84,  86, 194],\n",
       "        [ 84,  86, 194]],\n",
       "\n",
       "       ...,\n",
       "\n",
       "       [[193, 184, 190],\n",
       "        [203, 196, 207],\n",
       "        [182, 182, 195],\n",
       "        ...,\n",
       "        [215, 205, 235],\n",
       "        [216, 207, 234],\n",
       "        [217, 208, 235]],\n",
       "\n",
       "       [[193, 184, 190],\n",
       "        [201, 193, 204],\n",
       "        [181, 179, 192],\n",
       "        ...,\n",
       "        [215, 205, 235],\n",
       "        [215, 206, 233],\n",
       "        [217, 208, 235]],\n",
       "\n",
       "       [[188, 180, 185],\n",
       "        [191, 184, 194],\n",
       "        [181, 179, 192],\n",
       "        ...,\n",
       "        [214, 204, 234],\n",
       "        [214, 205, 232],\n",
       "        [217, 208, 235]]], dtype=uint8)"
      ]
     },
     "execution_count": 10,
     "metadata": {},
     "output_type": "execute_result"
    }
   ],
   "source": [
    "cv2.putText(\n",
    "    img, \n",
    "    f'Found {len(faces)} faces', \n",
    "    (10,30) , \n",
    "    cv2.FONT_HERSHEY_SIMPLEX, \n",
    "    1, \n",
    "    (0,0,0), \n",
    "    2)"
   ]
  },
  {
   "cell_type": "code",
   "execution_count": 12,
   "id": "07af1f62-7b26-4b22-9146-f919a0bc5de6",
   "metadata": {},
   "outputs": [
    {
     "data": {
      "text/plain": [
       "-1"
      ]
     },
     "execution_count": 12,
     "metadata": {},
     "output_type": "execute_result"
    }
   ],
   "source": [
    "# cv2.rectangle(img, (0,0), (50,50), (255,0,0), 3)\n",
    "\n",
    "cv2.imshow('People', img)\n",
    "\n",
    "# waits for user to press any key\n",
    "# (this is necessary to avoid Python kernel form crashing)\n",
    "cv2.waitKey(0)\n",
    "\n",
    "# closing all open windows\n",
    " \n",
    "cv2.destroyAllWindows()\n",
    "\n",
    "cv2.waitKey(1)"
   ]
  },
  {
   "cell_type": "code",
   "execution_count": 2,
   "id": "21c90826-e418-4a80-8397-06ac927aceb7",
   "metadata": {},
   "outputs": [],
   "source": [
    "import cv2\n",
    "cascpath = './haarcascade_frontalface_default.xml'\n",
    "casceyepath = './haarcascade_eye.xml'\n",
    "face_cascade = cv2.CascadeClassifier(cascpath)\n",
    "eye_cascade = cv2.CascadeClassifier(casceyepath)\n",
    "cap = cv2.VideoCapture(0)\n",
    "\n",
    "\n",
    "while True:\n",
    "    status, frame = cap.read()\n",
    "    faces = face_cascade.detectMultiScale(frame, \n",
    "                                         scaleFactor=1.1, \n",
    "                                         minNeighbors=5)\n",
    "    for (x,y,w,h) in faces:\n",
    "        cv2.rectangle(frame, (x,y), (x+w, y+h), (255,0,0), 2)\n",
    "\n",
    "    eyes = eye_cascade.detectMultiScale(frame, scaleFactor=1.1, minNeighbors=12)\n",
    "\n",
    "    for (x,y,w,h) in eyes:\n",
    "        cv2.rectangle(frame, (x,y), (x+w, y+h), (0,255,255), 2)\n",
    "    \n",
    "    cv2.imshow('captured_image', frame)\n",
    "    key = cv2.waitKey(1)\n",
    "    if key == ord('q'):\n",
    "        break\n",
    "\n",
    "cv2.waitKey(0) \n",
    "cv2.destroyAllWindows()\n",
    "cv2.waitKey(2)\n",
    "cap.release()"
   ]
  },
  {
   "cell_type": "code",
   "execution_count": 168,
   "id": "36d6ab99-fa4b-4a7a-8496-a5a5a31e6cd9",
   "metadata": {},
   "outputs": [],
   "source": [
    "cv2.setRNGSeed(128)\n",
    "\n",
    "\n",
    "stitcher = cv2.Stitcher_create()\n",
    "stitcher.setPanoConfidenceThresh(0.4)\n",
    "img1 = cv2.imread('./img1.png')\n",
    "img2 = cv2.imread('./img2.png')\n",
    "\n",
    "status, stitched = stitcher.stitch((img1, img2))"
   ]
  },
  {
   "cell_type": "code",
   "execution_count": 169,
   "id": "e0bbd968-dcf8-4ac1-82f0-05678a5f8335",
   "metadata": {},
   "outputs": [
    {
     "data": {
      "text/plain": [
       "0"
      ]
     },
     "execution_count": 169,
     "metadata": {},
     "output_type": "execute_result"
    }
   ],
   "source": [
    "status"
   ]
  },
  {
   "cell_type": "code",
   "execution_count": 170,
   "id": "8364391a-7aab-4b41-84b3-9e3ca38c437b",
   "metadata": {},
   "outputs": [
    {
     "data": {
      "text/plain": [
       "-1"
      ]
     },
     "execution_count": 170,
     "metadata": {},
     "output_type": "execute_result"
    }
   ],
   "source": [
    "cv2.imshow('stiched', stitched)\n",
    "cv2.waitKey(0) \n",
    "cv2.destroyAllWindows()\n",
    "cv2.waitKey(2)"
   ]
  }
 ],
 "metadata": {
  "kernelspec": {
   "display_name": "Python 3 (ipykernel)",
   "language": "python",
   "name": "python3"
  },
  "language_info": {
   "codemirror_mode": {
    "name": "ipython",
    "version": 3
   },
   "file_extension": ".py",
   "mimetype": "text/x-python",
   "name": "python",
   "nbconvert_exporter": "python",
   "pygments_lexer": "ipython3",
   "version": "3.10.9"
  }
 },
 "nbformat": 4,
 "nbformat_minor": 5
}
